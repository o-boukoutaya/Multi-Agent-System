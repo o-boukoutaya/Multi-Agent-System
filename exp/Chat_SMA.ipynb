{
 "cells": [
  {
   "cell_type": "code",
   "execution_count": 3,
   "id": "6ac0233d",
   "metadata": {},
   "outputs": [
    {
     "ename": "ModuleNotFoundError",
     "evalue": "No module named 'requests'",
     "output_type": "error",
     "traceback": [
      "\u001b[31m---------------------------------------------------------------------------\u001b[39m",
      "\u001b[31mModuleNotFoundError\u001b[39m                       Traceback (most recent call last)",
      "\u001b[36mCell\u001b[39m\u001b[36m \u001b[39m\u001b[32mIn[3]\u001b[39m\u001b[32m, line 1\u001b[39m\n\u001b[32m----> \u001b[39m\u001b[32m1\u001b[39m \u001b[38;5;28;01mimport\u001b[39;00m\u001b[38;5;250m \u001b[39m\u001b[34;01mos\u001b[39;00m,\u001b[38;5;250m \u001b[39m\u001b[34;01mjson\u001b[39;00m,\u001b[38;5;250m \u001b[39m\u001b[34;01mgetpass\u001b[39;00m,\u001b[38;5;250m \u001b[39m\u001b[34;01masyncio\u001b[39;00m,\u001b[38;5;250m \u001b[39m\u001b[34;01mlogging\u001b[39;00m,\u001b[38;5;250m \u001b[39m\u001b[34;01mrequests\u001b[39;00m,\u001b[38;5;250m \u001b[39m\u001b[34;01minspect\u001b[39;00m\n\u001b[32m      2\u001b[39m \u001b[38;5;28;01mfrom\u001b[39;00m\u001b[38;5;250m \u001b[39m\u001b[34;01mtyping\u001b[39;00m\u001b[38;5;250m \u001b[39m\u001b[38;5;28;01mimport\u001b[39;00m Literal\n\u001b[32m      4\u001b[39m \u001b[38;5;66;03m# from langchain_openai import ChatOpenAI\u001b[39;00m\n",
      "\u001b[31mModuleNotFoundError\u001b[39m: No module named 'requests'"
     ]
    }
   ],
   "source": [
    "import os, json, getpass, asyncio, logging, requests, inspect\n",
    "from typing import Literal\n",
    "\n",
    "# from langchain_openai import ChatOpenAI\n",
    "from langchain_google_genai import ChatGoogleGenerativeAI\n",
    "from langchain.chat_models import init_chat_model\n",
    "\n",
    "from langgraph.types import Command\n",
    "from langgraph.graph import StateGraph, MessagesState, START, END\n",
    "from langchain_community.tools import DuckDuckGoSearchRun\n",
    "\n",
    "from langgraph.prebuilt import create_react_agent\n",
    "# from langgraph_supervisor import create_supervisor\n",
    "from langchain.tools import Tool\n",
    "\n",
    "from fastmcp import Client"
   ]
  },
  {
   "cell_type": "code",
   "execution_count": 2,
   "id": "6899ba0c",
   "metadata": {},
   "outputs": [],
   "source": [
    "from langchain_core.tools import tool, ToolException\n",
    "from functools import partial\n",
    "from functools import wraps\n",
    "from fastmcp.utilities.types import TextContent\n",
    "from mcp.server.fastmcp import Context"
   ]
  },
  {
   "cell_type": "code",
   "execution_count": 3,
   "id": "8484e09c",
   "metadata": {},
   "outputs": [],
   "source": [
    "# Env\n",
    "from dotenv import load_dotenv\n",
    "_ = load_dotenv()\n",
    "\n",
    "def _set_if_undefined(var: str):\n",
    "    if not os.environ.get(var):\n",
    "        os.environ[var] = getpass.getpass(f\"Please provide your {var}\")"
   ]
  },
  {
   "cell_type": "code",
   "execution_count": 4,
   "id": "e92a473d",
   "metadata": {},
   "outputs": [],
   "source": [
    "# Google API Key and Model\n",
    "os.getenv(\"GOOGLE_API_KEY\")\n",
    "gmodel = init_chat_model(\"google_genai:gemini-2.0-flash\")\n",
    "gchat = ChatGoogleGenerativeAI(\n",
    "    model=\"gemini-2.0-flash\",\n",
    "    temperature=0,\n",
    "    max_tokens=None,\n",
    "    timeout=None,\n",
    "    max_retries=2,\n",
    "    # other params...\n",
    ")\n",
    "\n",
    "# messages = [\n",
    "#     (\n",
    "#         \"system\",\n",
    "#         \"You are a helpful assistant that translates English to French. Translate the user sentence.\",\n",
    "#     ),\n",
    "#     (\"human\", \"I love programming.\"),\n",
    "# ]\n",
    "# ai_msg = gchat.invoke(messages)\n",
    "# ai_msg"
   ]
  },
  {
   "cell_type": "code",
   "execution_count": 5,
   "id": "26d5f6ed",
   "metadata": {},
   "outputs": [],
   "source": [
    "async def _search_data_async(question: str, limit: int = 8) -> str:\n",
    "    async with Client(\"http://127.0.0.1:8050/mcp-server/mcp\") as c:\n",
    "        res = await c.call_tool(\"search_data\", {\"query\": question, \"limit\": limit})\n",
    "        return json.loads(res)[\"answer\"]"
   ]
  },
  {
   "cell_type": "code",
   "execution_count": 6,
   "id": "aec30b12",
   "metadata": {},
   "outputs": [],
   "source": [
    "def sync_bridge(coro_fn): \n",
    "    \"\"\"\n",
    "    Décorateur : transforme une coroutine en fonction bloquante\n",
    "    qui s'exécute indifféremment dans un thread Jupyter ou non.\n",
    "    \"\"\"\n",
    "    @wraps(coro_fn)\n",
    "    def _wrapper(*args, **kwargs):\n",
    "        try:\n",
    "            # ⓵ Cas Jupyter ou event-loop déjà active\n",
    "            loop = asyncio.get_running_loop()\n",
    "        except RuntimeError:\n",
    "            loop = None\n",
    "\n",
    "        if loop and loop.is_running():\n",
    "            # On poste la coroutine dans la boucle existante\n",
    "            fut = asyncio.run_coroutine_threadsafe(coro_fn(*args, **kwargs), loop)\n",
    "            return fut.result()\n",
    "        else:\n",
    "            # ⓶ Thread sans boucle → on en crée une locale\n",
    "            return asyncio.run(coro_fn(*args, **kwargs))\n",
    "    _wrapper.__signature__ = inspect.signature(coro_fn)\n",
    "    return _wrapper         # bloque cette cellule - OK pour un tool"
   ]
  },
  {
   "cell_type": "code",
   "execution_count": 7,
   "id": "3d3de108",
   "metadata": {},
   "outputs": [],
   "source": [
    "async def _call_search(query: str, limit: int):\n",
    "    async with Client(\"http://127.0.0.1:8050/mcp-server/mcp\") as c:\n",
    "        res = await c.call_tool(\"search_data\", {\"ctx\": {}, \"query\": query, \"limit\": limit})\n",
    "\n",
    "    # ── normaliser ─────────────────────────────\n",
    "    if isinstance(res, TextContent):\n",
    "        payload = res.text\n",
    "    elif isinstance(res, (bytes, str)):\n",
    "        payload = res\n",
    "    elif isinstance(res, list) and res and isinstance(res[0], TextContent):\n",
    "        payload = res[0].text\n",
    "    else:\n",
    "        raise ValueError(f\"Format inattendu: {type(res)}\")\n",
    "\n",
    "    data = json.loads(payload)      # <─ plus de TypeError\n",
    "    return data[\"answer\"]"
   ]
  },
  {
   "cell_type": "code",
   "execution_count": 8,
   "id": "2e00486b",
   "metadata": {},
   "outputs": [],
   "source": [
    "@tool(\n",
    "    # name        = \"RealEstateRAGTool\",\n",
    "    description = \"Recherche projets et biens immobiliers.\",\n",
    ")\n",
    "@sync_bridge # <- garde la compatibilité sync\n",
    "async def realestate_rag(question: str, limit: int = 20) -> str: # _search_data\n",
    "    \"\"\"Interroge GraphRAG : retourne une réponse textuelle.\"\"\"\n",
    "    try:\n",
    "        return await _call_search(question, limit)\n",
    "    except ToolException as e:\n",
    "        return f\"[ERREUR RAG] {e}\""
   ]
  },
  {
   "cell_type": "markdown",
   "id": "820d10fa",
   "metadata": {},
   "source": [
    "### 1. Create worker agents"
   ]
  },
  {
   "cell_type": "code",
   "execution_count": 9,
   "id": "42e7805c",
   "metadata": {},
   "outputs": [],
   "source": [
    "# -----------------------------\n",
    "# InfoAgent (RAG-based agent for project/property info)\n",
    "# -----------------------------\n",
    "info_agent = create_react_agent(\n",
    "    model=gchat,\n",
    "    tools=[realestate_rag],  # rag_tool : Replace with my custom RAG retriever tools\n",
    "    prompt=(\n",
    "        \"You are the InfoAgent.\\n\"\n",
    "        \"- Answer questions about real estate projects, properties, availability, location, prices, and financial conditions.\\n\"\n",
    "        \"- Use only the available rag_tool to query property databases or retrieve knowledge from the RAG system.\\n\"\n",
    "        \"- You may also explain financial aspects such as payment options or loan eligibility (just based on information from the tool).\\n\"\n",
    "        \"- Do NOT collect client personal information.\\n\"\n",
    "        \"- Do NOT schedule appointments.\"\n",
    "        \"- Do Not give any external information from the llm model, only use the rag_tool to answer questions.\\n\"\n",
    "        \"- If you don't know the answer, say 'I don't know' or 'I cannot answer that'.\\n\"\n",
    "    ),\n",
    "    name=\"InfoAgent\"\n",
    ")"
   ]
  },
  {
   "cell_type": "code",
   "execution_count": 10,
   "id": "0a337aaf",
   "metadata": {},
   "outputs": [
    {
     "name": "stdout",
     "output_type": "stream",
     "text": [
      "{'messages': [HumanMessage(content='Y a t-il des laucaux commerciaux à Bouskoura ? Peut-on trouver des locaux commerciaux à moins de 500 000 MAD ?', additional_kwargs={}, response_metadata={}, id='56293d74-36ed-4c3c-b256-93ec1406da43'), AIMessage(content='', additional_kwargs={'function_call': {'name': 'realestate_rag', 'arguments': '{\"limit\": 5.0, \"question\": \"locaux commerciaux \\\\u00e0 Bouskoura \\\\u00e0 moins de 500 000 MAD\"}'}}, response_metadata={'prompt_feedback': {'block_reason': 0, 'safety_ratings': []}, 'finish_reason': 'STOP', 'model_name': 'gemini-2.0-flash', 'safety_ratings': []}, name='InfoAgent', id='run--1551a336-9ff5-4840-9459-c897566c243e-0', tool_calls=[{'name': 'realestate_rag', 'args': {'limit': 5.0, 'question': 'locaux commerciaux à Bouskoura à moins de 500 000 MAD'}, 'id': '1b602601-90b2-4e19-9792-739d6b223d17', 'type': 'tool_call'}], usage_metadata={'input_tokens': 189, 'output_tokens': 26, 'total_tokens': 215, 'input_token_details': {'cache_read': 0}}), ToolMessage(content='Oui, le projet SAFAA à Bouskoura propose des locaux commerciaux.  Le prix de départ est de 590 000 Dhs.  Par conséquent,  je n’ai pas la donnée concernant des locaux commerciaux à moins de 500 000 MAD dans ce projet.', name='realestate_rag', id='110a4d0b-a7b7-4733-b008-a3a07ddb1a89', tool_call_id='1b602601-90b2-4e19-9792-739d6b223d17'), AIMessage(content='Oui, le projet SAFAA à Bouskoura propose des locaux commerciaux. Le prix de départ est de 590 000 Dhs. Par conséquent, je n’ai pas la donnée concernant des locaux commerciaux à moins de 500 000 MAD dans ce projet.', additional_kwargs={}, response_metadata={'prompt_feedback': {'block_reason': 0, 'safety_ratings': []}, 'finish_reason': 'STOP', 'model_name': 'gemini-2.0-flash', 'safety_ratings': []}, name='InfoAgent', id='run--fec45cad-9918-4e6c-a03a-1e11069bd157-0', usage_metadata={'input_tokens': 285, 'output_tokens': 62, 'total_tokens': 347, 'input_token_details': {'cache_read': 0}})]}\n",
      "Oui, le projet SAFAA à Bouskoura propose des locaux commerciaux. Le prix de départ est de 590 000 Dhs. Par conséquent, je n’ai pas la donnée concernant des locaux commerciaux à moins de 500 000 MAD dans ce projet.\n"
     ]
    }
   ],
   "source": [
    "# 🟢 Appel unique\n",
    "resp = info_agent.invoke(\n",
    "    # {\"messages\":[{\"role\":\"user\",\"content\":\"Quel est le prix des F2 à Bouskoura ?\"}]}\n",
    "    {\"messages\":[{\"role\":\"user\",\"content\":\"Y a t-il des laucaux commerciaux à Bouskoura ? Peut-on trouver des locaux commerciaux à moins de 500 000 MAD ?\"}]}\n",
    ")\n",
    "print(resp)               # dict complet\n",
    "print(resp[\"messages\"][-1].content)  # texte final"
   ]
  },
  {
   "cell_type": "code",
   "execution_count": 14,
   "id": "d7372278",
   "metadata": {},
   "outputs": [
    {
     "name": "stdout",
     "output_type": "stream",
     "text": [
      "{'agent': {'messages': [AIMessage(content='', additional_kwargs={'function_call': {'name': 'realestate_rag', 'arguments': '{\"limit\": 5.0, \"question\": \"projets situ\\\\u00e9s \\\\u00e0 Casablanca\"}'}}, response_metadata={'prompt_feedback': {'block_reason': 0, 'safety_ratings': []}, 'finish_reason': 'STOP', 'model_name': 'gemini-2.0-flash', 'safety_ratings': []}, name='InfoAgent', id='run--a0a0d21d-119b-4b8b-a719-95911a9e9029-0', tool_calls=[{'name': 'realestate_rag', 'args': {'limit': 5.0, 'question': 'projets situés à Casablanca'}, 'id': '17dd5458-ef8b-4fdb-93de-adafef151c30', 'type': 'tool_call'}], usage_metadata={'input_tokens': 166, 'output_tokens': 12, 'total_tokens': 178, 'input_token_details': {'cache_read': 0}})]}}\n",
      "{'tools': {'messages': [ToolMessage(content='À Casablanca, le Groupe Addoha propose les projets suivants\\xa0:\\n\\n* **AL FATH (Route Arrahma):** Appartements F3 économiques à partir de 200\\xa0000 dhs.  Le projet inclut une école, une crèche, une mosquée, un centre de santé, des commerces, un collège, un lycée et des administrations.\\n\\n* **HADAIK ARRAHMA:**  Appartements dont le prix débute à 615\\xa0000 dhs.  Les détails concernant la typologie des logements et les équipements ne sont pas précisés dans le texte.\\n\\n* **AL AZHAR (Al Oulfa):**  Ce projet propose des plateaux de bureaux (43 à 93 m²) à partir de 480\\xa0000 dhs et des locaux commerciaux (25 à 49 m²) à partir de 675\\xa0000 dhs.\\n\\n\\nJe n’ai pas la donnée concernant d’autres projets situés à Casablanca.', name='realestate_rag', id='99aee6fd-68b3-43b7-b55d-527de4be7fb0', tool_call_id='17dd5458-ef8b-4fdb-93de-adafef151c30')]}}\n",
      "{'agent': {'messages': [AIMessage(content='À Casablanca, le Groupe Addoha propose les projets suivants\\xa0:\\n\\n* **AL FATH (Route Arrahma):** Appartements F3 économiques à partir de 200\\xa0000 dhs. Le projet inclut une école, une crèche, une mosquée, un centre de santé, des commerces, un collège, un lycée et des administrations.\\n\\n* **HADAIK ARRAHMA:** Appartements dont le prix débute à 615\\xa0000 dhs. Les détails concernant la typologie des logements et les équipements ne sont pas précisés dans le texte.\\n\\n* **AL AZHAR (Al Oulfa):** Ce projet propose des plateaux de bureaux (43 à 93 m²) à partir de 480\\xa0000 dhs et des locaux commerciaux (25 à 49 m²) à partir de 675\\xa0000 dhs.', additional_kwargs={}, response_metadata={'prompt_feedback': {'block_reason': 0, 'safety_ratings': []}, 'finish_reason': 'STOP', 'model_name': 'gemini-2.0-flash', 'safety_ratings': []}, name='InfoAgent', id='run--790b37b9-c26d-44ec-a09d-4562a624a2eb-0', usage_metadata={'input_tokens': 400, 'output_tokens': 197, 'total_tokens': 597, 'input_token_details': {'cache_read': 0}})]}}\n"
     ]
    }
   ],
   "source": [
    "# 🟢 Streaming\n",
    "for chunk in info_agent.stream(\n",
    "    # {\"messages\":[{\"role\":\"user\",\"content\":\"Quel est le prix des F3 à Bouskoura ?\"}]}\n",
    "    # {\"messages\":[{\"role\":\"user\",\"content\":\"Quels biens avez-vous à vendre à Casablanca ?\"}]}\n",
    "    {\"messages\":[{\"role\":\"user\",\"content\":\"Dannez moi la liste des projets situés à Casablanca ?\"}]}\n",
    "):\n",
    "    print(chunk)"
   ]
  },
  {
   "cell_type": "code",
   "execution_count": 15,
   "id": "4b040694",
   "metadata": {},
   "outputs": [],
   "source": [
    "# -----------------------------\n",
    "# Web Search (Use DuckDuckGo)\n",
    "# -----------------------------\n",
    "\n",
    "webSearch_tool = DuckDuckGoSearchRun()\n",
    "# web_search_results = search_tool.invoke(\"What's a 'node' in LangGraph?\")\n",
    "# print(web_search_results)\n",
    "\n",
    "websearch_agent = create_react_agent(\n",
    "    model=gchat,\n",
    "    tools=[webSearch_tool],\n",
    "    prompt=(\n",
    "        \"You are the WebSearchAgent.\\n\"\n",
    "        \"- Your job is to answer external information queries related to a property.\\n\"\n",
    "        \"- Use tools to search distances to schools, hospitals, transport, markets, etc.\\n\"\n",
    "        \"- Respond only with findings. Do not provide conclusions or recommendations.\"\n",
    "    ),\n",
    "    name=\"research_agent\",\n",
    ")\n",
    "\n",
    "# for chunk in websearch_agent.stream(\n",
    "#     {\"messages\": [{\"role\": \"user\", \"content\": \"Quels sont les taux d'intérêt immobilier actuels au Maroc ?\"}]}\n",
    "# ):\n",
    "#     pretty_print_messages(chunk)"
   ]
  },
  {
   "cell_type": "code",
   "execution_count": 16,
   "id": "8b22401e",
   "metadata": {},
   "outputs": [],
   "source": [
    "# -----------------------------\n",
    "# ProfilAgent (collects user preferences and identity)\n",
    "# -----------------------------\n",
    "profil_agent = create_react_agent(\n",
    "    model=gchat,\n",
    "    tools=[],  # profile_storage_tool\n",
    "    prompt=(\n",
    "        \"You are the ProfilAgent.\\n\"\n",
    "        \"- Collect personal data from the user: name, phone number, email, and preferences (location, type, budget, etc.).\\n\"\n",
    "        \"- Provide a structured JSON result to be stored in a CRM or used by other agents.\\n\"\n",
    "        \"- Do NOT respond to questions about properties or scheduling.\\n\"\n",
    "        \"- Return structured JSON only. Do not use plain text responses.\"\n",
    "        \"- Example output: {\\\"name\\\":\\\"Oussama\\\", \\\"phone\\\":\\\"+2126...\\\", \\\"preferences\\\":{...}}\"\n",
    "    ),\n",
    "    name=\"ProfilAgent\"\n",
    ")\n",
    "\n",
    "# for chunk in profil_agent.stream(\n",
    "#     {\"messages\": [{\"role\": \"user\", \"content\": \"Je m'appelle Oussama, je cherche un appartement à Rabat pour un budget de 900 000 MAD\"}]}\n",
    "# ):\n",
    "#     pretty_print_messages(chunk)"
   ]
  },
  {
   "cell_type": "code",
   "execution_count": 17,
   "id": "8480a9a3",
   "metadata": {},
   "outputs": [],
   "source": [
    "# -----------------------------\n",
    "# RDVAgent (appointment scheduling)\n",
    "# -----------------------------\n",
    "rdv_agent = create_react_agent(\n",
    "    model=gchat,\n",
    "    tools=[],  # In future: tool for checking Google Calendar or internal DB `rdv_calendar_tool`\n",
    "    prompt=(\n",
    "        \"You are the RDVAgent.\\n\"\n",
    "        \"- Schedule appointments or site visits for potential clients.\\n\"\n",
    "        \"- Ask for preferred date/time and validate availability via tools.\\n\"\n",
    "        \"- Confirm the booking and log it appropriately.\\n\"\n",
    "        \"- Only handle appointment discussions, not general property info.\"\n",
    "        \"- Return Response to Supervisor to ask about what happens next.\"\n",
    "        \"- If booking confirmed return output. Example output: {\\\"date\\\":\\\"2023-10-01\\\", \\\"time\\\":\\\"10:00\\\", \\\"location\\\":\\\"Rabat\\\"}\"\n",
    "    ),\n",
    "    name=\"RDVAgent\"\n",
    ")\n",
    "\n",
    "# for chunk in websearch_agent.stream(\n",
    "#     {\"messages\": [{\"role\": \"user\", \"content\": \"Quels biens avez-vous à vendre à Casablanca ?\"}]}\n",
    "# ):\n",
    "#     pretty_print_messages(chunk)"
   ]
  },
  {
   "cell_type": "code",
   "execution_count": 18,
   "id": "3792f613",
   "metadata": {},
   "outputs": [],
   "source": [
    "# -----------------------------\n",
    "# Reformulator (human-like response rewriter)\n",
    "# -----------------------------\n",
    "reformulator_agent = create_react_agent(\n",
    "    model=gchat,\n",
    "    tools=[],\n",
    "    prompt=(\n",
    "        \"You are the Reformulator.\\n\"\n",
    "        \"- Rephrase technical or robotic responses in a warm and persuasive commercial tone.\\n\"\n",
    "        \"- Make the customer feel heard, understood, and guided positively.\\n\"\n",
    "        \"- Maintain original information, do NOT add details.\"\n",
    "        \"- Always return your response in structured JSON format like {\\\"field\\\": \\\"value\\\"}. Do not return plain text.\"\n",
    "    ),\n",
    "    name=\"Reformulator\"\n",
    ")\n",
    "\n",
    "# for chunk in websearch_agent.stream(\n",
    "#     {\"messages\": [{\"role\": \"user\", \"content\": \"2 biens trouvés à Rabat dans votre budget.\"}]}\n",
    "# ):\n",
    "#     pretty_print_messages(chunk)"
   ]
  },
  {
   "cell_type": "code",
   "execution_count": 19,
   "id": "f24fbdcc",
   "metadata": {},
   "outputs": [],
   "source": [
    "# -----------------------------\n",
    "# Scoring Agent (assess lead quality)\n",
    "# -----------------------------\n",
    "scoring_agent = create_react_agent(\n",
    "    model=gchat,\n",
    "    tools=[],\n",
    "    prompt=(\n",
    "        \"You are the ScoringAgent.\\n\"\n",
    "        \"- Evaluate the client's profile and interaction history.\\n\"\n",
    "        \"- Return a lead score: hot (very likely to convert), warm (needs follow-up), or cold (unlikely).\\n\"\n",
    "        \"- Consider urgency, budget, responsiveness, and visit intent.\\n\"\n",
    "        \"- Respond with JSON only: {\\\"score\\\": \\\"hot\\\", \\\"reason\\\": \\\"Client has urgent intent and high budget\\\"}\"\n",
    "    ),\n",
    "    name=\"ScoringAgent\"\n",
    ")\n",
    "\n",
    "# for chunk in websearch_agent.stream(\n",
    "#     {\"messages\": [{\"role\": \"user\", \"content\": \"Client disponible tous les soirs cette semaine, budget flexible, veut acheter rapidement.\"}]}\n",
    "# ):\n",
    "#     pretty_print_messages(chunk)"
   ]
  },
  {
   "cell_type": "code",
   "execution_count": 20,
   "id": "4156aba8",
   "metadata": {},
   "outputs": [],
   "source": [
    "# -----------------------------\n",
    "# Reminder Agent (follow-up after X hours)\n",
    "# -----------------------------\n",
    "reminder_agent = create_react_agent(\n",
    "    model=gchat,\n",
    "    tools=[],\n",
    "    prompt=(\n",
    "        \"You are the ReminderAgent.\\n\"\n",
    "        \"- Follow up with clients who paused the conversation or didn't finalize a request.\\n\"\n",
    "        \"- Be gentle and professional. Mention the prior discussion and invite them to continue.\\n\"\n",
    "        \"- Do not invent new offers or pressure the client.\\n\"\n",
    "        \"- Sample message: 'Just checking in to see if you're still interested in the property we discussed.'\"\n",
    "    ),\n",
    "    name=\"ReminderAgent\"\n",
    ")\n",
    "\n",
    "# for chunk in websearch_agent.stream(\n",
    "#     {\"messages\": [{\"role\": \"user\", \"content\": \"Le client n’a pas répondu depuis 48h après notre dernière proposition de visite.\"}]}\n",
    "# ):\n",
    "#     pretty_print_messages(chunk)"
   ]
  },
  {
   "cell_type": "markdown",
   "id": "e7d7590e",
   "metadata": {},
   "source": [
    "### 2. Create supervisor with `langgraph-supervisor`"
   ]
  },
  {
   "cell_type": "code",
   "execution_count": 21,
   "id": "4857b78c",
   "metadata": {},
   "outputs": [
    {
     "name": "stdout",
     "output_type": "stream",
     "text": [
      "Name: langgraph-supervisor\n",
      "Version: 0.0.27\n",
      "Summary: An implementation of a supervisor multi-agent architecture using LangGraph\n",
      "Home-page: \n",
      "Author: \n",
      "Author-email: Vadym Barda <19161700+vbarda@users.noreply.github.com >\n",
      "License-Expression: MIT\n",
      "Location: C:\\Users\\Oussama\\Documents\\AIProjects\\2-EXP\\Snd_v\\snd-v\\Lib\\site-packages\n",
      "Requires: langchain-core, langgraph, langgraph-prebuilt\n",
      "Required-by: \n"
     ]
    }
   ],
   "source": [
    "# !pip install langgraph-supervisor\n",
    "!pip show langgraph-supervisor"
   ]
  },
  {
   "cell_type": "code",
   "execution_count": 22,
   "id": "e1b769d4",
   "metadata": {},
   "outputs": [],
   "source": [
    "from langgraph_supervisor import create_supervisor\n",
    "# -----------------------------\n",
    "supervisor = create_supervisor(\n",
    "    model=gchat,\n",
    "    agents=[info_agent, profil_agent, rdv_agent, reformulator_agent, scoring_agent, websearch_agent, reminder_agent],\n",
    "    prompt=(\n",
    "        \"You are a supervisor agent managing a real estate assistant system.\\n\"\n",
    "        \"You coordinate multiple specialized agents to simulate a professional sales assistant in real estate.\\n\\n\"\n",
    "        \"Your responsibilities:\\n\"\n",
    "        \"- If the user expresses a search intent (budget + city/type), call the InfoAgent to provide suggestions.\"\n",
    "        \"- If the user asks about property details, pricing, availability, zones, or project characteristics, assign the task to the InfoAgent.\\n\"\n",
    "        \"- If the user provides preferences or a search need (location, budget, type), assign the InfoAgent to suggest available properties or project options.\"\n",
    "        \"- If the user shares personal information, budget, preferences, or contact details, delegate to the ProfilAgent.\\n\"\n",
    "        \"- If the user requests a visit or meeting, or talks about scheduling, route to the RDVAgent.\\n\"\n",
    "        \"- After any agent returns data, always send the final message through the Reformulator to ensure tone and clarity.\"\n",
    "        \"- All responses intended for the client must always be passed through the Reformulator agent to ensure a persuasive, elegant, and client-friendly tone, as if written by a professional real estate sales advisor.\\n\"\n",
    "        \"- If the user is qualified or a profile has been created, send it to the ScoringAgent to determine the lead quality.\\n\"\n",
    "        \"- If the user asks general web questions or industry-related topics (e.g., interest rates, laws), use the WebSearchAgent.\\n\"\n",
    "        \"- If the user has not responded for a while, or a delay is mentioned, assign the ReminderAgent to follow up.\\n\\n\"\n",
    "        \"Always assign one task at a time. Do not process multiple agents in parallel.\\n\"\n",
    "        \"Never perform tasks yourself. Only coordinate communication and route to the correct agent.\\n\"\n",
    "        \"Return complete history with all agent responses.\\n\"\n",
    "    ),\n",
    "    add_handoff_back_messages=True,\n",
    "    output_mode=\"full_history\",\n",
    ").compile()"
   ]
  },
  {
   "cell_type": "code",
   "execution_count": 23,
   "id": "cff74c7e",
   "metadata": {},
   "outputs": [
    {
     "data": {
      "image/png": "[encoded data removed]",
      "text/plain": [
       "<IPython.core.display.Image object>"
      ]
     },
     "metadata": {},
     "output_type": "display_data"
    }
   ],
   "source": [
    "from IPython.display import display, Image\n",
    "\n",
    "display(Image(supervisor.get_graph().draw_mermaid_png()))"
   ]
  },
  {
   "cell_type": "code",
   "execution_count": 28,
   "id": "610337e9",
   "metadata": {},
   "outputs": [
    {
     "name": "stderr",
     "output_type": "stream",
     "text": [
      "Task supervisor with path ('__pregel_pull', 'supervisor') wrote to unknown channel is_last_step, ignoring it.\n",
      "Task supervisor with path ('__pregel_pull', 'supervisor') wrote to unknown channel remaining_steps, ignoring it.\n"
     ]
    },
    {
     "name": "stdout",
     "output_type": "stream",
     "text": [
      "Update from node supervisor:\n",
      "\n",
      "\n",
      "=================================\u001b[1m Tool Message \u001b[0m=================================\n",
      "Name: transfer_to_profilagent\n",
      "\n",
      "Successfully transferred to ProfilAgent\n",
      "\n",
      "\n",
      "Update from node ProfilAgent:\n",
      "\n",
      "\n",
      "=================================\u001b[1m Tool Message \u001b[0m=================================\n",
      "Name: transfer_back_to_supervisor\n",
      "\n",
      "Successfully transferred back to supervisor\n",
      "\n",
      "\n"
     ]
    },
    {
     "name": "stderr",
     "output_type": "stream",
     "text": [
      "Task supervisor with path ('__pregel_pull', 'supervisor') wrote to unknown channel is_last_step, ignoring it.\n",
      "Task supervisor with path ('__pregel_pull', 'supervisor') wrote to unknown channel remaining_steps, ignoring it.\n"
     ]
    },
    {
     "name": "stdout",
     "output_type": "stream",
     "text": [
      "Update from node supervisor:\n",
      "\n",
      "\n",
      "=================================\u001b[1m Tool Message \u001b[0m=================================\n",
      "Name: transfer_to_infoagent\n",
      "\n",
      "Successfully transferred to InfoAgent\n",
      "\n",
      "\n",
      "Update from node InfoAgent:\n",
      "\n",
      "\n",
      "=================================\u001b[1m Tool Message \u001b[0m=================================\n",
      "Name: transfer_back_to_supervisor\n",
      "\n",
      "Successfully transferred back to supervisor\n",
      "\n",
      "\n"
     ]
    },
    {
     "name": "stderr",
     "output_type": "stream",
     "text": [
      "Task supervisor with path ('__pregel_pull', 'supervisor') wrote to unknown channel is_last_step, ignoring it.\n",
      "Task supervisor with path ('__pregel_pull', 'supervisor') wrote to unknown channel remaining_steps, ignoring it.\n"
     ]
    },
    {
     "name": "stdout",
     "output_type": "stream",
     "text": [
      "Update from node supervisor:\n",
      "\n",
      "\n",
      "=================================\u001b[1m Tool Message \u001b[0m=================================\n",
      "Name: transfer_to_reformulator\n",
      "\n",
      "Successfully transferred to Reformulator\n",
      "\n",
      "\n",
      "Update from node Reformulator:\n",
      "\n",
      "\n",
      "=================================\u001b[1m Tool Message \u001b[0m=================================\n",
      "Name: transfer_back_to_supervisor\n",
      "\n",
      "Successfully transferred back to supervisor\n",
      "\n",
      "\n",
      "Update from node supervisor:\n",
      "\n",
      "\n",
      "==================================\u001b[1m Ai Message \u001b[0m==================================\n",
      "Name: supervisor\n",
      "\n",
      "Bonjour Oussama! C'est un plaisir de vous aider dans votre recherche d'appartement à Rabat. Avec votre budget de 900 000 MAD, nous allons trouver le bien idéal pour vous. Je comprends que vous souhaitez visiter les biens rapidement, et je vais m'en occuper personnellement pour organiser cela au plus vite. Soyez assuré que je suis là pour vous accompagner à chaque étape de votre projet immobilier.\n",
      "\n",
      "\n"
     ]
    }
   ],
   "source": [
    "import pretty\n",
    "for chunk in supervisor.stream(\n",
    "    {\n",
    "        \"messages\": [\n",
    "            {\n",
    "                \"role\": \"user\",\n",
    "                \"content\": \"Bonjour, je m'appelle Oussama, je cherche un appartement à Rabat pour un budget de 900 000 MAD. Je veux visiter le bien dès que possible.\",\n",
    "            }\n",
    "        ]\n",
    "    },\n",
    "):\n",
    "    pretty.pretty_print_messages(chunk, last_message=True)\n",
    "\n",
    "final_message_history = chunk[\"supervisor\"][\"messages\"]"
   ]
  },
  {
   "cell_type": "code",
   "execution_count": 20,
   "id": "3817b491",
   "metadata": {},
   "outputs": [],
   "source": [
    "#!pip install lightrag"
   ]
  },
  {
   "cell_type": "code",
   "execution_count": 28,
   "id": "49283858",
   "metadata": {},
   "outputs": [],
   "source": [
    "from langchain_core.messages import convert_to_messages\n",
    "\n",
    "\n",
    "def pretty_print_message(message, indent=False):\n",
    "    pretty_message = message.pretty_repr(html=True)\n",
    "    if not indent:\n",
    "        print(pretty_message)\n",
    "        return\n",
    "\n",
    "    indented = \"\\n\".join(\"\\t\" + c for c in pretty_message.split(\"\\n\"))\n",
    "    print(indented)\n",
    "\n",
    "\n",
    "def pretty_print_messages(update, last_message=False):\n",
    "    is_subgraph = False\n",
    "    if isinstance(update, tuple):\n",
    "        ns, update = update\n",
    "        # skip parent graph updates in the printouts\n",
    "        if len(ns) == 0:\n",
    "            return\n",
    "\n",
    "        graph_id = ns[-1].split(\":\")[0]\n",
    "        print(f\"Update from subgraph {graph_id}:\")\n",
    "        print(\"\\n\")\n",
    "        is_subgraph = True\n",
    "\n",
    "    for node_name, node_update in update.items():\n",
    "        update_label = f\"Update from node {node_name}:\"\n",
    "        if is_subgraph:\n",
    "            update_label = \"\\t\" + update_label\n",
    "\n",
    "        print(update_label)\n",
    "        print(\"\\n\")\n",
    "\n",
    "        messages = convert_to_messages(node_update[\"messages\"])\n",
    "        if last_message:\n",
    "            messages = messages[-1:]\n",
    "\n",
    "        for m in messages:\n",
    "            pretty_print_message(m, indent=is_subgraph)\n",
    "        print(\"\\n\")"
   ]
  },
  {
   "cell_type": "markdown",
   "id": "b3dbb112",
   "metadata": {},
   "source": [
    "## Tools\n",
    "\n",
    "**1. InfoAgent — Accès RAG Immobilier via FastMCP**"
   ]
  },
  {
   "cell_type": "code",
   "execution_count": 40,
   "id": "48d7cd75",
   "metadata": {},
   "outputs": [
    {
     "name": "stdout",
     "output_type": "stream",
     "text": [
      "Name: sseclient-py\n",
      "Version: 1.8.0\n",
      "Summary: SSE client for Python\n",
      "Home-page: https://github.com/mpetazzoni/sseclient\n",
      "Author: Maxime Petazzoni\n",
      "Author-email: maxime.petazzoni@bulix.org\n",
      "License: Apache Software License v2\n",
      "Location: C:\\Users\\Oussama\\Documents\\AIProjects\\2-EXP\\Snd_v\\snd-v\\Lib\\site-packages\n",
      "Requires: \n",
      "Required-by: \n"
     ]
    }
   ],
   "source": [
    "# !pip install sseclient-py\n",
    "!pip show sseclient-py"
   ]
  },
  {
   "cell_type": "markdown",
   "id": "6f5074be",
   "metadata": {},
   "source": [
    "Bloc 1 – version SSE (streaming)\n",
    "\n",
    "* `False` ⇒ réponse entière sur POST `/mcp/run`.\n",
    "* `True` ⇒ uniquement un accusé sur `/run`, puis les données arrivent via `/events`."
   ]
  },
  {
   "cell_type": "code",
   "execution_count": null,
   "id": "0d861966",
   "metadata": {},
   "outputs": [],
   "source": [
    "# from langchain.tools import Tool\n",
    "# import requests, sseclient, json\n",
    "\n",
    "# def stream_realestate_database(query: str) -> str:\n",
    "#     \"\"\"\n",
    "#     Interroge `search_data` en streaming SSE et renvoie la réponse finale.\n",
    "#     \"\"\"\n",
    "#     # 1) ouverture du flux\n",
    "#     es = sseclient.SSEClient(\"http://0.0.0.0:8443/mcp/events\")\n",
    "\n",
    "#     # 2) publication de la requête (stream=True)\n",
    "#     requests.post(\"http://0.0.0.0:8443/mcp/run\", json={\n",
    "#         \"tool\":   \"search_data\",\n",
    "#         \"args\":   {\"query\": query},\n",
    "#         \"stream\": True\n",
    "#     })\n",
    "\n",
    "#     # 3) lecture des events\n",
    "#     answer_chunks = []\n",
    "#     for event in es.events():\n",
    "#         data = json.loads(event.data)\n",
    "\n",
    "#         # • chaque chunk peut contenir un delta à afficher live\n",
    "#         if data.get(\"delta\"):\n",
    "#             answer_chunks.append(data[\"delta\"])\n",
    "\n",
    "#         # • message final → on ferme\n",
    "#         if data.get(\"done\"):\n",
    "#             es.close()\n",
    "#             return \"\".join(answer_chunks)\n",
    "\n",
    "# rag_tool = Tool(\n",
    "#     name=\"RealEstateRAGTool\",\n",
    "#     func=stream_realestate_database,\n",
    "#     description=\"Interroge la base RAG en streaming SSE.\"\n",
    "# )\n"
   ]
  },
  {
   "cell_type": "markdown",
   "id": "5d559d44",
   "metadata": {},
   "source": [
    "Bloc 2 – version HTTP (recommandée pour l’InfoAgent)"
   ]
  },
  {
   "cell_type": "code",
   "execution_count": 49,
   "id": "60d64cfa",
   "metadata": {},
   "outputs": [],
   "source": [
    "# from langchain.tools import Tool\n",
    "# import requests, json, logging\n",
    "\n",
    "# def query_realestate_database(query: str, *, limit: int = 8) -> str:\n",
    "#     \"\"\"\n",
    "#     Interroge le MCP tool `search_data` en mode HTTP (réponse unique).\n",
    "#     \"\"\"\n",
    "#     payload = {\n",
    "#         \"tool\":   \"search_data\",\n",
    "#         \"args\":   {\"query\": query, \"limit\": limit},\n",
    "#         \"stream\": False                         # ➜ JSON complet\n",
    "#     }\n",
    "#     r = requests.post(\n",
    "#         \"http://0.0.0.0:8050/mcp/run\", json=payload, timeout=60\n",
    "#     )\n",
    "#     r.raise_for_status()\n",
    "#     data = r.json()                            # {\"answer\": \"...\", ...}\n",
    "#     logging.debug(\"RAG context : %s\", json.dumps(data[\"context\"], indent=2))\n",
    "#     return data[\"answer\"]\n",
    "#     # Si on veux le contexte complet, on renvoie json.dumps(data).\n",
    "\n",
    "# rag_tool = Tool(\n",
    "#     name=\"RealEstateRAGTool\",\n",
    "#     func=query_realestate_database,\n",
    "#     description=\"Interroge la base immobilière RAG (projets, prix, localisation…).\"\n",
    "# )\n"
   ]
  },
  {
   "cell_type": "markdown",
   "id": "a59dcf72",
   "metadata": {},
   "source": [
    "2. ProfilAgent — Stockage dans un CRM local ou fichier"
   ]
  },
  {
   "cell_type": "code",
   "execution_count": 42,
   "id": "7a5fd9e6",
   "metadata": {},
   "outputs": [],
   "source": [
    "def store_profile_data(data: str):\n",
    "    with open(\"client_profiles.json\", \"a\") as f:\n",
    "        f.write(data + \"\\\\n\")\n",
    "    return \"Profile saved.\"\n",
    "\n",
    "profile_storage_tool = Tool(\n",
    "    name=\"ProfileSaver\",\n",
    "    func=store_profile_data,\n",
    "    description=\"Stores collected client info (JSON) in the CRM.\"\n",
    ")\n"
   ]
  },
  {
   "cell_type": "markdown",
   "id": "5eeff8b0",
   "metadata": {},
   "source": [
    "3. RDVAgent — Agenda Google ou local"
   ]
  },
  {
   "cell_type": "code",
   "execution_count": 43,
   "id": "551a58da",
   "metadata": {},
   "outputs": [],
   "source": [
    "def check_calendar_and_schedule(message: str):\n",
    "    # Simuler ici un agenda, ou interagir avec Google Calendar API\n",
    "    return \"Rendez-vous confirmé pour samedi 10h à Rabat.\"\n",
    "\n",
    "rdv_calendar_tool = Tool(\n",
    "    name=\"AppointmentScheduler\",\n",
    "    func=check_calendar_and_schedule,\n",
    "    description=\"Schedule client visits based on calendar availability.\"\n",
    ")\n"
   ]
  },
  {
   "cell_type": "code",
   "execution_count": null,
   "id": "5f527475",
   "metadata": {},
   "outputs": [],
   "source": []
  }
 ],
 "metadata": {
  "kernelspec": {
   "display_name": "smaenv",
   "language": "python",
   "name": "python3"
  },
  "language_info": {
   "codemirror_mode": {
    "name": "ipython",
    "version": 3
   },
   "file_extension": ".py",
   "mimetype": "text/x-python",
   "name": "python",
   "nbconvert_exporter": "python",
   "pygments_lexer": "ipython3",
   "version": "3.13.6"
  }
 },
 "nbformat": 4,
 "nbformat_minor": 5
}
