{
 "cells": [
  {
   "cell_type": "code",
   "execution_count": 52,
   "id": "c2bf2a46",
   "metadata": {},
   "outputs": [],
   "source": [
    "import os, json, getpass, asyncio, logging, requests, inspect\n",
    "from typing import Literal\n",
    "\n",
    "# from langchain_openai import ChatOpenAI\n",
    "from langchain_google_genai import ChatGoogleGenerativeAI\n",
    "from langchain.chat_models import init_chat_model\n",
    "\n",
    "from langgraph.types import Command\n",
    "from langgraph.graph import StateGraph, MessagesState, START, END\n",
    "from langchain_community.tools import DuckDuckGoSearchRun\n",
    "\n",
    "from langgraph.prebuilt import create_react_agent\n",
    "# from langgraph_supervisor import create_supervisor\n",
    "from langchain.tools import Tool\n",
    "\n",
    "from fastmcp import Client"
   ]
  },
  {
   "cell_type": "code",
   "execution_count": 53,
   "id": "c39290bf",
   "metadata": {},
   "outputs": [],
   "source": [
    "# Env\n",
    "from dotenv import load_dotenv\n",
    "_ = load_dotenv()\n",
    "\n",
    "def _set_if_undefined(var: str):\n",
    "    if not os.environ.get(var):\n",
    "        os.environ[var] = getpass.getpass(f\"Please provide your {var}\")"
   ]
  },
  {
   "cell_type": "code",
   "execution_count": 54,
   "id": "e2283849",
   "metadata": {},
   "outputs": [],
   "source": [
    "os.getenv(\"GOOGLE_API_KEY\")\n",
    "gmodel = init_chat_model(\"google_genai:gemini-2.0-flash\")\n",
    "gchat = ChatGoogleGenerativeAI(\n",
    "    model=\"gemini-2.0-flash\",\n",
    "    temperature=0,\n",
    "    max_tokens=None,\n",
    "    timeout=None,\n",
    "    max_retries=2,\n",
    "    # other params...\n",
    ")"
   ]
  },
  {
   "cell_type": "code",
   "execution_count": 55,
   "id": "ecc80b71",
   "metadata": {},
   "outputs": [],
   "source": [
    "\n",
    "async def _search_data_async(question: str, limit: int = 8) -> str:\n",
    "    async with Client(\"http://127.0.0.1:8050/mcp-server/mcp\") as c:\n",
    "        res = await c.call_tool(\"search_data\", {\"query\": question, \"limit\": limit})\n",
    "        return json.loads(res)[\"answer\"]"
   ]
  },
  {
   "cell_type": "code",
   "execution_count": 56,
   "id": "e21cbce1",
   "metadata": {},
   "outputs": [],
   "source": [
    "from langchain_core.tools import tool, ToolException\n",
    "from functools import partial\n",
    "from functools import wraps\n",
    "from fastmcp.utilities.types import TextContent\n",
    "from mcp.server.fastmcp import Context"
   ]
  },
  {
   "cell_type": "code",
   "execution_count": 57,
   "id": "91b4f690",
   "metadata": {},
   "outputs": [],
   "source": [
    "# def _sync_bridge(coro, *args, **kwargs):\n",
    "#     \"\"\"Exécute une coroutine dans la boucle déjà active (Jupyter) et renvoie le résultat.\"\"\"\n",
    "#     loop = asyncio.get_running_loop()\n",
    "#     fut  = asyncio.run_coroutine_threadsafe(coro(*args, **kwargs), loop)\n",
    "#     return fut.result()  \n",
    "\n",
    "def sync_bridge(coro_fn): \n",
    "    \"\"\"\n",
    "    Décorateur : transforme une coroutine en fonction bloquante\n",
    "    qui s'exécute indifféremment dans un thread Jupyter ou non.\n",
    "    \"\"\"\n",
    "    @wraps(coro_fn)\n",
    "    def _wrapper(*args, **kwargs):\n",
    "        try:\n",
    "            # ⓵ Cas Jupyter ou event-loop déjà active\n",
    "            loop = asyncio.get_running_loop()\n",
    "        except RuntimeError:\n",
    "            loop = None\n",
    "\n",
    "        if loop and loop.is_running():\n",
    "            # On poste la coroutine dans la boucle existante\n",
    "            fut = asyncio.run_coroutine_threadsafe(coro_fn(*args, **kwargs), loop)\n",
    "            return fut.result()\n",
    "        else:\n",
    "            # ⓶ Thread sans boucle → on en crée une locale\n",
    "            return asyncio.run(coro_fn(*args, **kwargs))\n",
    "    _wrapper.__signature__ = inspect.signature(coro_fn)\n",
    "    return _wrapper         # bloque cette cellule - OK pour un tool"
   ]
  },
  {
   "cell_type": "code",
   "execution_count": 58,
   "id": "142b78a2",
   "metadata": {},
   "outputs": [],
   "source": [
    "async def _call_search(query: str, limit: int):\n",
    "    async with Client(\"http://127.0.0.1:8050/mcp-server/mcp\") as c:\n",
    "        res = await c.call_tool(\"search_data\", {\"ctx\": {}, \"query\": query, \"limit\": limit})\n",
    "\n",
    "    # ── normaliser ─────────────────────────────\n",
    "    if isinstance(res, TextContent):\n",
    "        payload = res.text\n",
    "    elif isinstance(res, (bytes, str)):\n",
    "        payload = res\n",
    "    elif isinstance(res, list) and res and isinstance(res[0], TextContent):\n",
    "        payload = res[0].text\n",
    "    else:\n",
    "        raise ValueError(f\"Format inattendu: {type(res)}\")\n",
    "\n",
    "    data = json.loads(payload)      # <─ plus de TypeError\n",
    "    return data[\"answer\"]"
   ]
  },
  {
   "cell_type": "code",
   "execution_count": 59,
   "id": "e30b19cb",
   "metadata": {},
   "outputs": [],
   "source": [
    "# Le LLM ignore toujours nos paramètres → LangChain ne lui a pas transmis le JSON schema.\n",
    "# Il faut imposer le schéma via le décorateur @tool qui crée d’office un objet BaseTool.\n",
    "# Remarque : avec @tool, pas besoin de Tool.from_function ni d’args_schema.\n",
    "# LangChain génère automatiquement la spec OpenAPI (et Gemini la respectera).\n",
    "\n",
    "@tool(\n",
    "    # name        = \"RealEstateRAGTool\",\n",
    "    description = \"Recherche projets et biens immobiliers.\",\n",
    ")\n",
    "@sync_bridge # <- garde la compatibilité sync\n",
    "async def realestate_rag(question: str, limit: int = 20) -> str: # _search_data\n",
    "    \"\"\"Interroge GraphRAG : retourne une réponse textuelle.\"\"\"\n",
    "    try:\n",
    "        return await _call_search(question, limit)\n",
    "    except ToolException as e:\n",
    "        return f\"[ERREUR RAG] {e}\""
   ]
  },
  {
   "cell_type": "code",
   "execution_count": 34,
   "id": "b74a9db0",
   "metadata": {},
   "outputs": [],
   "source": [
    "# rag_tool = tool.from_function(\n",
    "#     name        = \"RealEstateRAGTool\",\n",
    "#     description = \"Recherche projets et biens immobiliers (GraphRAG).\",\n",
    "#     func        = realestate_rag,\n",
    "#     return_direct = True        # l'agent renvoie directement la réponse du tool\n",
    "# )"
   ]
  },
  {
   "cell_type": "code",
   "execution_count": 60,
   "id": "0fca6328",
   "metadata": {},
   "outputs": [],
   "source": [
    "# -----------------------------\n",
    "# InfoAgent (RAG-based agent for project/property info)\n",
    "# -----------------------------\n",
    "info_agent = create_react_agent(\n",
    "    model=gchat,\n",
    "    tools=[realestate_rag],  # rag_tool : Replace with my custom RAG retriever tools\n",
    "    prompt=(\n",
    "        \"You are the InfoAgent.\\n\"\n",
    "        \"- Answer questions about real estate projects, properties, availability, location, prices, and financial conditions.\\n\"\n",
    "        \"- Use only the available rag_tool to query property databases or retrieve knowledge from the RAG system.\\n\"\n",
    "        \"- You may also explain financial aspects such as payment options or loan eligibility (just based on information from the tool).\\n\"\n",
    "        \"- Do NOT collect client personal information.\\n\"\n",
    "        \"- Do NOT schedule appointments.\"\n",
    "        \"- Do Not give any external information from the llm model, only use the rag_tool to answer questions.\\n\"\n",
    "        \"- If you don't know the answer, say 'I don't know' or 'I cannot answer that'.\\n\"\n",
    "    ),\n",
    "    name=\"InfoAgent\"\n",
    ")"
   ]
  },
  {
   "cell_type": "markdown",
   "id": "a0463052",
   "metadata": {},
   "source": [
    "────────────────────────────────\n",
    "**Utilisation notebook**\n",
    "────────────────────────────────"
   ]
  },
  {
   "cell_type": "code",
   "execution_count": 61,
   "id": "81d3027c",
   "metadata": {},
   "outputs": [
    {
     "name": "stdout",
     "output_type": "stream",
     "text": [
      "{'messages': [HumanMessage(content='Y a t-il des laucaux commerciaux à Bouskoura ? Peut-on trouver des locaux commerciaux à moins de 500 000 MAD ?', additional_kwargs={}, response_metadata={}, id='953b4e48-9f80-42e8-94e8-478a89ba1a7d'), AIMessage(content='', additional_kwargs={'function_call': {'name': 'realestate_rag', 'arguments': '{\"limit\": 5.0, \"question\": \"locaux commerciaux \\\\u00e0 Bouskoura \\\\u00e0 moins de 500 000 MAD\"}'}}, response_metadata={'prompt_feedback': {'block_reason': 0, 'safety_ratings': []}, 'finish_reason': 'STOP', 'model_name': 'gemini-2.0-flash', 'safety_ratings': []}, name='InfoAgent', id='run--a5e0a1ef-c766-46a8-be32-9243b0271525-0', tool_calls=[{'name': 'realestate_rag', 'args': {'limit': 5.0, 'question': 'locaux commerciaux à Bouskoura à moins de 500 000 MAD'}, 'id': 'cf6378d3-4eec-4cd7-a323-4465805a400c', 'type': 'tool_call'}], usage_metadata={'input_tokens': 189, 'output_tokens': 26, 'total_tokens': 215, 'input_token_details': {'cache_read': 0}}), ToolMessage(content='Oui, le projet SAFAA à Bouskoura propose des locaux commerciaux.  Le prix de départ est de 590 000 Dhs.  Par conséquent,  je n’ai pas la donnée concernant des locaux commerciaux à moins de 500 000 MAD dans ce projet.', name='realestate_rag', id='631a3ece-e230-4391-873b-12aa9e50f71c', tool_call_id='cf6378d3-4eec-4cd7-a323-4465805a400c'), AIMessage(content='Oui, le projet SAFAA à Bouskoura propose des locaux commerciaux. Le prix de départ est de 590 000 Dhs. Par conséquent, je n’ai pas la donnée concernant des locaux commerciaux à moins de 500 000 MAD dans ce projet.', additional_kwargs={}, response_metadata={'prompt_feedback': {'block_reason': 0, 'safety_ratings': []}, 'finish_reason': 'STOP', 'model_name': 'gemini-2.0-flash', 'safety_ratings': []}, name='InfoAgent', id='run--1a5f8cf5-1aa0-4aa4-8066-eee35c77ec14-0', usage_metadata={'input_tokens': 285, 'output_tokens': 62, 'total_tokens': 347, 'input_token_details': {'cache_read': 0}})]}\n",
      "Oui, le projet SAFAA à Bouskoura propose des locaux commerciaux. Le prix de départ est de 590 000 Dhs. Par conséquent, je n’ai pas la donnée concernant des locaux commerciaux à moins de 500 000 MAD dans ce projet.\n"
     ]
    }
   ],
   "source": [
    "# 🟢 Appel unique\n",
    "resp = info_agent.invoke(\n",
    "    # {\"messages\":[{\"role\":\"user\",\"content\":\"Quel est le prix des F2 à Bouskoura ?\"}]}\n",
    "    {\"messages\":[{\"role\":\"user\",\"content\":\"Y a t-il des laucaux commerciaux à Bouskoura ? Peut-on trouver des locaux commerciaux à moins de 500 000 MAD ?\"}]}\n",
    ")\n",
    "print(resp)               # dict complet\n",
    "print(resp[\"messages\"][-1].content)  # texte final"
   ]
  },
  {
   "cell_type": "code",
   "execution_count": 62,
   "id": "fa61dc84",
   "metadata": {},
   "outputs": [
    {
     "name": "stdout",
     "output_type": "stream",
     "text": [
      "{'agent': {'messages': [AIMessage(content='', additional_kwargs={'function_call': {'name': 'realestate_rag', 'arguments': '{\"limit\": 5.0, \"question\": \"projets situ\\\\u00e9s \\\\u00e0 Casablanca\"}'}}, response_metadata={'prompt_feedback': {'block_reason': 0, 'safety_ratings': []}, 'finish_reason': 'STOP', 'model_name': 'gemini-2.0-flash', 'safety_ratings': []}, name='InfoAgent', id='run--9729ceb4-a50c-4c4c-bbe5-7024c33c9f8d-0', tool_calls=[{'name': 'realestate_rag', 'args': {'limit': 5.0, 'question': 'projets situés à Casablanca'}, 'id': '2d496970-bec2-433f-a0e9-b7492dbd518b', 'type': 'tool_call'}], usage_metadata={'input_tokens': 166, 'output_tokens': 12, 'total_tokens': 178, 'input_token_details': {'cache_read': 0}})]}}\n",
      "{'tools': {'messages': [ToolMessage(content='À Casablanca, le Groupe Addoha propose les projets suivants\\xa0:\\n\\n* **AL FATH (Route Arrahma):** Appartements F3 économiques à partir de 200\\xa0000 dhs.  Le projet inclut une école, une crèche, une mosquée, un centre de santé, des commerces, un collège, un lycée et des administrations.\\n\\n* **HADAIK ARRAHMA:**  Appartements dont le prix débute à 615\\xa0000 dhs.  Les détails concernant la typologie des logements et les équipements ne sont pas précisés dans le texte.\\n\\n* **AL AZHAR (Al Oulfa):**  Ce projet propose des plateaux de bureaux (43 à 93 m²) à partir de 480\\xa0000 dhs et des locaux commerciaux (25 à 49 m²) à partir de 675\\xa0000 dhs.\\n\\n\\nJe n’ai pas la donnée concernant d’autres projets situés à Casablanca.', name='realestate_rag', id='d35fc0eb-aa58-42be-b89f-a02c925ebf18', tool_call_id='2d496970-bec2-433f-a0e9-b7492dbd518b')]}}\n",
      "{'agent': {'messages': [AIMessage(content='À Casablanca, le Groupe Addoha propose les projets suivants\\xa0:\\n\\n* **AL FATH (Route Arrahma):** Appartements F3 économiques à partir de 200\\xa0000 dhs. Le projet inclut une école, une crèche, une mosquée, un centre de santé, des commerces, un collège, un lycée et des administrations.\\n\\n* **HADAIK ARRAHMA:** Appartements dont le prix débute à 615\\xa0000 dhs. Les détails concernant la typologie des logements et les équipements ne sont pas précisés dans le texte.\\n\\n* **AL AZHAR (Al Oulfa):** Ce projet propose des plateaux de bureaux (43 à 93 m²) à partir de 480\\xa0000 dhs et des locaux commerciaux (25 à 49 m²) à partir de 675\\xa0000 dhs.', additional_kwargs={}, response_metadata={'prompt_feedback': {'block_reason': 0, 'safety_ratings': []}, 'finish_reason': 'STOP', 'model_name': 'gemini-2.0-flash', 'safety_ratings': []}, name='InfoAgent', id='run--1415b86a-3492-4016-90f6-d85b4829a1ef-0', usage_metadata={'input_tokens': 400, 'output_tokens': 197, 'total_tokens': 597, 'input_token_details': {'cache_read': 0}})]}}\n"
     ]
    }
   ],
   "source": [
    "# 🟢 Streaming\n",
    "for chunk in info_agent.stream(\n",
    "    # {\"messages\":[{\"role\":\"user\",\"content\":\"Quel est le prix des F3 à Bouskoura ?\"}]}\n",
    "    # {\"messages\":[{\"role\":\"user\",\"content\":\"Quels biens avez-vous à vendre à Casablanca ?\"}]}\n",
    "    {\"messages\":[{\"role\":\"user\",\"content\":\"Dannez moi la liste des projets situés à Casablanca ?\"}]}\n",
    "):\n",
    "    print(chunk)"
   ]
  },
  {
   "cell_type": "code",
   "execution_count": null,
   "id": "7909c27d",
   "metadata": {},
   "outputs": [],
   "source": []
  }
 ],
 "metadata": {
  "kernelspec": {
   "display_name": "snd-v",
   "language": "python",
   "name": "python3"
  },
  "language_info": {
   "codemirror_mode": {
    "name": "ipython",
    "version": 3
   },
   "file_extension": ".py",
   "mimetype": "text/x-python",
   "name": "python",
   "nbconvert_exporter": "python",
   "pygments_lexer": "ipython3",
   "version": "3.13.4"
  }
 },
 "nbformat": 4,
 "nbformat_minor": 5
}
